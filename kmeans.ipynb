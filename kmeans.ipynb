{
 "cells": [
  {
   "cell_type": "code",
   "execution_count": 47,
   "id": "1f3f3382-98bc-4d6f-8fcd-e46981b07d1e",
   "metadata": {},
   "outputs": [],
   "source": [
    "from kmeans import *\n",
    "import matplotlib.pyplot as plt\n",
    "from mpl_toolkits import mplot3d\n",
    "from util import *\n",
    "import pandas as pd\n",
    "import math"
   ]
  },
  {
   "cell_type": "code",
   "execution_count": 63,
   "id": "562d99d5-efc5-40b6-aeb7-0248e66ca087",
   "metadata": {},
   "outputs": [
    {
     "name": "stdout",
     "output_type": "stream",
     "text": [
      "Start clustering\n",
      "Choosing initial representatives\n",
      "Initial representatives are:\n",
      "[[ 0.6489 13.4287  7.2704]]\n",
      "Calculating distances\n",
      "Recalculating representatives\n",
      "Representatives recalculated:\n",
      "[[ 1.05298182 13.32640909  7.7212    ]]\n",
      "Calculating distances\n",
      "Recalculating representatives\n",
      "Representatives recalculated:\n",
      "[[ 1.05298182 13.32640909  7.7212    ]]\n",
      "Clustering ended\n",
      "Start clustering\n",
      "Choosing initial representatives\n",
      "Initial representatives are:\n",
      "[[ 0.8416 16.2631  5.8787]\n",
      " [ 0.6489 13.4287  7.2704]]\n",
      "Calculating distances\n",
      "Recalculating representatives\n",
      "Representatives recalculated:\n",
      "[[ 1.06238    16.7871      7.508     ]\n",
      " [ 1.04515    10.4425      7.89886667]]\n",
      "Calculating distances\n",
      "Recalculating representatives\n",
      "Representatives recalculated:\n",
      "[[ 1.02695    16.24693333  7.33663333]\n",
      " [ 1.08422     9.82178     8.18268   ]]\n",
      "Calculating distances\n",
      "Recalculating representatives\n",
      "Representatives recalculated:\n",
      "[[ 0.97294286 15.84432857  7.32717143]\n",
      " [ 1.19305     8.92005     8.41075   ]]\n",
      "Calculating distances\n",
      "Recalculating representatives\n",
      "Representatives recalculated:\n",
      "[[ 0.97294286 15.84432857  7.32717143]\n",
      " [ 1.19305     8.92005     8.41075   ]]\n",
      "Clustering ended\n",
      "Start clustering\n",
      "Choosing initial representatives\n",
      "Initial representatives are:\n",
      "[[ 1.1697 16.8529  9.7003]\n",
      " [ 0.9448 16.3656  6.416 ]\n",
      " [ 1.064   6.3889  7.9821]]\n",
      "Calculating distances\n",
      "Recalculating representatives\n",
      "Representatives recalculated:\n",
      "[[ 1.35956667 15.72253333  9.7928    ]\n",
      " [ 0.9439     14.55705     6.95726667]\n",
      " [ 0.92035     6.0403      6.9056    ]]\n",
      "Calculating distances\n",
      "Recalculating representatives\n",
      "Representatives recalculated:\n",
      "[[ 1.35956667 15.72253333  9.7928    ]\n",
      " [ 0.9439     14.55705     6.95726667]\n",
      " [ 0.92035     6.0403      6.9056    ]]\n",
      "Clustering ended\n",
      "Start clustering\n",
      "Choosing initial representatives\n",
      "Initial representatives are:\n",
      "[[ 0.9448 16.3656  6.416 ]\n",
      " [ 1.1697 16.8529  9.7003]\n",
      " [ 1.2256 18.6458  8.539 ]\n",
      " [ 1.064   6.3889  7.9821]]\n",
      "Calculating distances\n",
      "Recalculating representatives\n",
      "Representatives recalculated:\n",
      "[[ 0.9439     14.55705     6.95726667]\n",
      " [ 1.42655    14.2609     10.4197    ]\n",
      " [ 1.2256     18.6458      8.539     ]\n",
      " [ 0.92035     6.0403      6.9056    ]]\n",
      "Calculating distances\n",
      "Recalculating representatives\n",
      "Representatives recalculated:\n",
      "[[ 0.88306 15.08232  6.61018]\n",
      " [ 1.46575 11.7998   9.9159 ]\n",
      " [ 1.19765 17.74935  9.11965]\n",
      " [ 0.92035  6.0403   6.9056 ]]\n",
      "Calculating distances\n",
      "Recalculating representatives\n",
      "Representatives recalculated:\n",
      "[[ 0.88306 15.08232  6.61018]\n",
      " [ 1.46575 11.7998   9.9159 ]\n",
      " [ 1.19765 17.74935  9.11965]\n",
      " [ 0.92035  6.0403   6.9056 ]]\n",
      "Clustering ended\n",
      "Start clustering\n",
      "Choosing initial representatives\n",
      "Initial representatives are:\n",
      "[[ 1.6834 11.6689 11.1391]\n",
      " [ 1.064   6.3889  7.9821]\n",
      " [ 0.8416 16.2631  5.8787]\n",
      " [ 0.6489 13.4287  7.2704]\n",
      " [ 1.1302 15.8081  7.006 ]]\n",
      "Calculating distances\n",
      "Recalculating representatives\n",
      "Representatives recalculated:\n",
      "[[ 1.6834     11.6689     11.1391    ]\n",
      " [ 0.92035     6.0403      6.9056    ]\n",
      " [ 0.8932     16.31435     6.14735   ]\n",
      " [ 0.9156     12.9685      7.48096667]\n",
      " [ 1.17516667 17.10226667  8.4151    ]]\n",
      "Calculating distances\n",
      "Recalculating representatives\n",
      "Representatives recalculated:\n",
      "[[ 1.6834     11.6689     11.1391    ]\n",
      " [ 0.92035     6.0403      6.9056    ]\n",
      " [ 0.9722     16.1456      6.43356667]\n",
      " [ 0.9156     12.9685      7.48096667]\n",
      " [ 1.19765    17.74935     9.11965   ]]\n",
      "Calculating distances\n",
      "Recalculating representatives\n",
      "Representatives recalculated:\n",
      "[[ 1.6834     11.6689     11.1391    ]\n",
      " [ 0.92035     6.0403      6.9056    ]\n",
      " [ 0.9722     16.1456      6.43356667]\n",
      " [ 0.9156     12.9685      7.48096667]\n",
      " [ 1.19765    17.74935     9.11965   ]]\n",
      "Clustering ended\n"
     ]
    }
   ],
   "source": [
    "kmeans = {}\n",
    "for i in range(1, 6):\n",
    "    kmeans[i] = Kmeans('Datasets/output.csv', i)\n",
    "    kmeans[i].read_csv(['INFECTION_RATE', 'ICU_RATE', 'TEST_POS_PERCENTAGE'])\n",
    "    kmeans[i].start_clustering()"
   ]
  },
  {
   "cell_type": "code",
   "execution_count": 65,
   "id": "c63e2688-3124-4fb8-95bf-6055446e5d47",
   "metadata": {},
   "outputs": [
    {
     "data": {
      "image/png": "[encoded data removed]",
      "text/plain": [
       "<Figure size 432x288 with 1 Axes>"
      ]
     },
     "metadata": {
      "needs_background": "light"
     },
     "output_type": "display_data"
    }
   ],
   "source": [
    "x = []\n",
    "y = []\n",
    "for key in kmeans:\n",
    "    x.append(kmeans[key].k)\n",
    "    y.append(kmeans[key].accuracy)\n",
    "\n",
    "plt.plot(x, y)\n",
    "plt.scatter(x, y)\n",
    "plt.xlabel(\"K\")\n",
    "plt.ylabel(\"Sum of mean squared distances\")\n",
    "plt.title(\"Elbow graph\")\n",
    "plt.show()"
   ]
  },
  {
   "cell_type": "code",
   "execution_count": 66,
   "id": "b7092e22-3fbc-4642-822f-eed0229c4d83",
   "metadata": {},
   "outputs": [
    {
     "data": {
      "text/plain": [
       "4.4934247582500015"
      ]
     },
     "execution_count": 66,
     "metadata": {},
     "output_type": "execute_result"
    }
   ],
   "source": [
    "kmeans[4].accuracy"
   ]
  },
  {
   "cell_type": "code",
   "execution_count": 67,
   "id": "8c5d7e0d-ea40-4091-b9b6-be24a1e7c08c",
   "metadata": {},
   "outputs": [
    {
     "data": {
      "text/plain": [
       "{0: {'mean': array([ 0.88306, 15.08232,  6.61018]),\n",
       "  'stdev': array([0.15655419, 1.31622464, 0.48627805]),\n",
       "  'max': array([ 1.1302, 16.3656,  7.2704]),\n",
       "  'min': array([ 0.6489, 13.4287,  5.8787])},\n",
       " 1: {'mean': array([ 1.46575, 11.7998 ,  9.9159 ]),\n",
       "  'stdev': array([0.21765, 0.1309 , 1.2232 ]),\n",
       "  'max': array([ 1.6834, 11.9307, 11.1391]),\n",
       "  'min': array([ 1.2481, 11.6689,  8.6927])},\n",
       " 2: {'mean': array([ 1.19765, 17.74935,  9.11965]),\n",
       "  'stdev': array([0.02795, 0.89645, 0.58065]),\n",
       "  'max': array([ 1.2256, 18.6458,  9.7003]),\n",
       "  'min': array([ 1.1697, 16.8529,  8.539 ])},\n",
       " 3: {'mean': array([0.92035, 6.0403 , 6.9056 ]),\n",
       "  'stdev': array([0.14365, 0.3486 , 1.0765 ]),\n",
       "  'max': array([1.064 , 6.3889, 7.9821]),\n",
       "  'min': array([0.7767, 5.6917, 5.8291])}}"
      ]
     },
     "execution_count": 67,
     "metadata": {},
     "output_type": "execute_result"
    }
   ],
   "source": [
    "kmeans[4].get_clusters_info()"
   ]
  },
  {
   "cell_type": "code",
   "execution_count": 68,
   "id": "9e8b3736-8173-46ac-90ef-f0129be8a206",
   "metadata": {},
   "outputs": [
    {
     "data": {
      "text/plain": [
       "{'mean': array([ 1.05298182, 13.32640909,  7.7212    ]),\n",
       " 'stdev': array([0.27341021, 3.99913133, 1.60152644]),\n",
       " 'max': array([ 1.6834, 18.6458, 11.1391]),\n",
       " 'min': array([0.6489, 5.6917, 5.8291])}"
      ]
     },
     "execution_count": 68,
     "metadata": {},
     "output_type": "execute_result"
    }
   ],
   "source": [
    "kmeans[4].get_dataset_info()"
   ]
  },
  {
   "cell_type": "code",
   "execution_count": 69,
   "id": "b8f1be4b-8792-4e29-acd4-af21dc26bb75",
   "metadata": {},
   "outputs": [
    {
     "data": {
      "image/png": "[encoded data removed]",
      "text/plain": [
       "<Figure size 432x288 with 1 Axes>"
      ]
     },
     "metadata": {
      "needs_background": "light"
     },
     "output_type": "display_data"
    }
   ],
   "source": [
    "draw_boxplot(kmeans[1].original_dataset)"
   ]
  },
  {
   "cell_type": "code",
   "execution_count": 57,
   "id": "d57799ad-9dc3-4621-8234-79d4c0236e1f",
   "metadata": {},
   "outputs": [],
   "source": [
    "def look_for_province(list):\n",
    "    data = pd.read_csv('Datasets\\output.csv')\n",
    "    for entry in data.itertuples():\n",
    "        if entry[2] == list[0]:\n",
    "            return entry[1]\n",
    "    return "
   ]
  },
  {
   "cell_type": "code",
   "execution_count": 70,
   "id": "54db8de0-429c-471b-bae8-e1ea681c067f",
   "metadata": {},
   "outputs": [],
   "source": [
    "with open(\"Results/index.html\", \"w\") as file:\n",
    "    file.write(\"\")\n",
    "\n",
    "for key in kmeans:\n",
    "    data = []\n",
    "    for i in range(len(kmeans[key].c)):   \n",
    "        row = []\n",
    "        row.append(look_for_province(kmeans[key].original_dataset[i]))\n",
    "        row.append(round(kmeans[key].c[i]))\n",
    "        row.append(kmeans[key].original_dataset[i][0])\n",
    "        row.append(kmeans[key].original_dataset[i][1])\n",
    "        row.append(kmeans[key].original_dataset[i][2])\n",
    "        data.append(row)\n",
    "\n",
    "    table = pd.DataFrame(data, columns = [\"Province\", \"Cluster\", \"Infection rate %\", \"ICU rate %\", \"Positive test rate %\"])\n",
    "    table = table.sort_values(by=['Cluster'])\n",
    "    html = generate_html_table(table)\n",
    "    \n",
    "    with open(\"Results/index.html\", \"a\") as file:\n",
    "        file.write(f'<h2>K = {key}</h2>')\n",
    "        file.write(html)"
   ]
  },
  {
   "cell_type": "code",
   "execution_count": null,
   "id": "8ed483e1-6a52-4a38-aa70-8fb2dd90adf7",
   "metadata": {},
   "outputs": [],
   "source": []
  }
 ],
 "metadata": {
  "kernelspec": {
   "display_name": "Python 3",
   "language": "python",
   "name": "python3"
  },
  "language_info": {
   "codemirror_mode": {
    "name": "ipython",
    "version": 3
   },
   "file_extension": ".py",
   "mimetype": "text/x-python",
   "name": "python",
   "nbconvert_exporter": "python",
   "pygments_lexer": "ipython3",
   "version": "3.8.2"
  }
 },
 "nbformat": 4,
 "nbformat_minor": 5
}
