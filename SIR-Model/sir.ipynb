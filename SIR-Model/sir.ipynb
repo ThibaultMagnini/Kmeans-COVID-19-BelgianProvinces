{
 "cells": [
  {
   "cell_type": "code",
   "execution_count": 4,
   "id": "baa4df96-2ad3-4d9b-8375-6f37f766aa30",
   "metadata": {},
   "outputs": [
    {
     "data": {
      "application/vnd.jupyter.widget-view+json": {
       "model_id": "a09c9b97bfe24bb49199739b45797a41",
       "version_major": 2,
       "version_minor": 0
      },
      "text/plain": [
       "IntText(value=15000, description='Susceptible:')"
      ]
     },
     "metadata": {},
     "output_type": "display_data"
    },
    {
     "data": {
      "application/vnd.jupyter.widget-view+json": {
       "model_id": "559b416ffd06481b92ae9c7c99f0d2c5",
       "version_major": 2,
       "version_minor": 0
      },
      "text/plain": [
       "IntText(value=400, description='Infected:')"
      ]
     },
     "metadata": {},
     "output_type": "display_data"
    },
    {
     "data": {
      "application/vnd.jupyter.widget-view+json": {
       "model_id": "aa822b4c5920494eac0d4a7c9d959497",
       "version_major": 2,
       "version_minor": 0
      },
      "text/plain": [
       "IntText(value=350, description='Recovered:')"
      ]
     },
     "metadata": {},
     "output_type": "display_data"
    },
    {
     "data": {
      "application/vnd.jupyter.widget-view+json": {
       "model_id": "dc00e0e4b99d464e9a685a538273e21b",
       "version_major": 2,
       "version_minor": 0
      },
      "text/plain": [
       "IntText(value=100, description='Dead:')"
      ]
     },
     "metadata": {},
     "output_type": "display_data"
    },
    {
     "data": {
      "application/vnd.jupyter.widget-view+json": {
       "model_id": "26995901eec841ffb948a31476767416",
       "version_major": 2,
       "version_minor": 0
      },
      "text/plain": [
       "FloatText(value=0.94, description='Infection rate:', step=0.01)"
      ]
     },
     "metadata": {},
     "output_type": "display_data"
    },
    {
     "data": {
      "application/vnd.jupyter.widget-view+json": {
       "model_id": "04551d52c67d49a99a801412fc0b7047",
       "version_major": 2,
       "version_minor": 0
      },
      "text/plain": [
       "FloatText(value=0.14, description='Recovery rate:', step=0.01)"
      ]
     },
     "metadata": {},
     "output_type": "display_data"
    },
    {
     "data": {
      "application/vnd.jupyter.widget-view+json": {
       "model_id": "3e56598b014949579d7d56d0b4e69394",
       "version_major": 2,
       "version_minor": 0
      },
      "text/plain": [
       "FloatText(value=0.05, description='Death rate:', step=0.01)"
      ]
     },
     "metadata": {},
     "output_type": "display_data"
    },
    {
     "data": {
      "application/vnd.jupyter.widget-view+json": {
       "model_id": "d6afc8f001bd4518a25ffb7700c37a01",
       "version_major": 2,
       "version_minor": 0
      },
      "text/plain": [
       "interactive(children=(IntSlider(value=15000, description='Susceptible:', max=100000), IntSlider(value=400, des…"
      ]
     },
     "metadata": {},
     "output_type": "display_data"
    }
   ],
   "source": [
    "import numpy as np\n",
    "from scipy.integrate import odeint\n",
    "from matplotlib import pyplot as plt\n",
    "import ipywidgets as widgets\n",
    "from IPython.display import display\n",
    "\n",
    "%matplotlib inline\n",
    "\n",
    "s_widget = widgets.IntSlider(value=15000, min=0, max=100000, step=1, description='Susceptible:')\n",
    "s_text = widgets.IntText(value=15000, min=0, max=100000, step=1, description='Susceptible:')\n",
    "display(s_text)\n",
    "i_widget = widgets.IntSlider(value=400, min=0, max=100000, step=1, description='Infected:')\n",
    "i_text = widgets.IntText(value=400, min=0, max=100000, step=1, description='Infected:')\n",
    "display(i_text)\n",
    "r_widget = widgets.IntSlider(value=350, min=0, max=100000, step=1, description='Recovered:')\n",
    "r_text = widgets.IntText(value=350, min=0, max=100000, step=1, description='Recovered:')\n",
    "display(r_text)\n",
    "d_widget = widgets.IntSlider(value=100, min=0, max=100000, step=1, description='Dead:')\n",
    "d_text = widgets.IntText(value=100, min=0, max=100000, step=1, description='Dead:')\n",
    "display(d_text) \n",
    "b_widget = widgets.FloatSlider(value=0.94, min=0, max=3, step=0.01, description='Infection rate:')\n",
    "b_text = widgets.FloatText(value=0.94, min=0, max=3, step=0.01, description='Infection rate:')\n",
    "display(b_text)\n",
    "g_widget = widgets.FloatSlider(value=0.14, min=0, max=1, step=0.01, description='Recovery rate:')\n",
    "g_text = widgets.FloatText(value=0.14, min=0, max=1, step=0.01, description='Recovery rate:')\n",
    "display(g_text)\n",
    "p_widget = widgets.FloatSlider(value=0.05, min=0, max=1, step=0.01, description='Death rate:')\n",
    "p_text = widgets.FloatText(value=0.05, min=0, max=1, step=0.01, description='Death rate:')\n",
    "display(p_text)\n",
    "\n",
    "s_link = widgets.jslink((s_text, 'value'), (s_widget, 'value'))\n",
    "i_link = widgets.jslink((i_text, 'value'), (i_widget, 'value'))\n",
    "r_link = widgets.jslink((r_text, 'value'), (r_widget, 'value'))\n",
    "b_link = widgets.jslink((b_text, 'value'), (b_widget, 'value'))\n",
    "g_link = widgets.jslink((g_text, 'value'), (g_widget, 'value'))\n",
    "d_link = widgets.jslink((d_text, 'value'), (d_widget, 'value'))\n",
    "p_link = widgets.jslink((p_text, 'value'), (p_widget, 'value'))\n",
    "\n",
    "S0 = 15000\n",
    "I0 = 400\n",
    "R0 = 350\n",
    "D0 = 100\n",
    "beta = 0.94\n",
    "gamma = 0.14\n",
    "phi = 0.05\n",
    "\n",
    "time_steps = np.linspace(0, 60, 10001)\n",
    "\n",
    "def deriv(y, t, N, beta, gamma, phi):\n",
    "    S, I, _, _ = y\n",
    "    dsdt = -beta * ((S * I) / N)\n",
    "    didt = beta * ((S * I) / N) - gamma * I\n",
    "    drdt = gamma * I\n",
    "    dddt = phi * I\n",
    "    return dsdt, didt, drdt, dddt\n",
    "\n",
    "def update_plot(S0, I0, R0, D0, beta, gamma, phi):\n",
    "    N = S0 + I0 + R0 + D0\n",
    "    y0 = S0, I0, R0, D0\n",
    "    ret = odeint(deriv, y0, time_steps, args=(N, beta, gamma, phi))\n",
    "    S, I, R, D = ret.T\n",
    "\n",
    "    fig = plt.figure(facecolor='w')\n",
    "    ax = fig.add_subplot(111, facecolor='#dddddd', axisbelow=True)\n",
    "    ax.plot(time_steps, S/1000, 'b', label='Susceptible')\n",
    "    ax.plot(time_steps, I/1000, 'r', label='Infected')\n",
    "    ax.plot(time_steps, R/1000, 'g', label='Recovered with immunity')\n",
    "    ax.plot(time_steps, D/1000, 'c', label='Dead')\n",
    "    ax.set_xlabel('Time /days')\n",
    "    ax.set_ylabel('Number (1000s)')\n",
    "\n",
    "    ax.yaxis.set_tick_params(length=0)\n",
    "    ax.xaxis.set_tick_params(length=0)\n",
    "    ax.grid(b=True, which='major', c='w', lw=2, ls='-')\n",
    "    legend = ax.legend()\n",
    "    legend.get_frame().set_alpha(0.5)\n",
    "\n",
    "    plt.show()\n",
    "    \n",
    "widgets.interactive(update_plot, S0=s_widget, I0=i_widget, R0=r_widget, D0=d_widget, beta=b_widget, gamma=g_widget, phi=p_widget)"
   ]
  },
  {
   "cell_type": "code",
   "execution_count": null,
   "id": "b13557fb-89b7-49cb-a8aa-4ce1cadf796b",
   "metadata": {},
   "outputs": [],
   "source": []
  }
 ],
 "metadata": {
  "kernelspec": {
   "display_name": "Python 3",
   "language": "python",
   "name": "python3"
  },
  "language_info": {
   "codemirror_mode": {
    "name": "ipython",
    "version": 3
   },
   "file_extension": ".py",
   "mimetype": "text/x-python",
   "name": "python",
   "nbconvert_exporter": "python",
   "pygments_lexer": "ipython3",
   "version": "3.9.2"
  }
 },
 "nbformat": 4,
 "nbformat_minor": 5
}
