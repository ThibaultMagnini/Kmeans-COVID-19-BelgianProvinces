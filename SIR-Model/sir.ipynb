{
 "cells": [
  {
   "cell_type": "code",
   "execution_count": 1,
   "id": "baa4df96-2ad3-4d9b-8375-6f37f766aa30",
   "metadata": {},
   "outputs": [
    {
     "data": {
      "application/vnd.jupyter.widget-view+json": {
       "model_id": "1b47576125724658b864a8845c9acca3",
       "version_major": 2,
       "version_minor": 0
      },
      "text/plain": [
       "interactive(children=(IntSlider(value=15000, description='Susceptible:', max=100000), IntSlider(value=400, des…"
      ]
     },
     "metadata": {},
     "output_type": "display_data"
    }
   ],
   "source": [
    "import numpy as np\n",
    "from scipy.integrate import odeint\n",
    "from matplotlib import pyplot as plt\n",
    "import ipywidgets as widgets\n",
    "from IPython.display import display\n",
    "\n",
    "%matplotlib inline\n",
    "\n",
    "s_widget = widgets.IntSlider(value=15000, min=0, max=100000, step=1, description='Susceptible:')\n",
    "i_widget = widgets.IntSlider(value=400, min=0, max=100000, step=1, description='Infected:')\n",
    "r_widget = widgets.IntSlider(value=350, min=0, max=100000, step=1, description='Recovered:')\n",
    "b_widget = widgets.FloatSlider(value=0.94, min=0, max=3, step=0.01, description='Infection rate:')\n",
    "g_widget = widgets.FloatSlider(value=0.14, min=0, max=1, step=0.01, description='Recovery rate:')\n",
    "\n",
    "S0 = 15000\n",
    "I0 = 400\n",
    "R0 = 350\n",
    "beta = 0.94\n",
    "gamma = 0.14\n",
    "\n",
    "time_steps = np.linspace(0, 60, 10001)\n",
    "\n",
    "def deriv(y, t, N, beta, gamma):\n",
    "    S, I, _ = y\n",
    "    dsdt = -beta * ((S * I) / N)\n",
    "    didt = beta * ((S * I) / N) - gamma * I\n",
    "    drdt = gamma * I\n",
    "    return dsdt, didt, drdt\n",
    "\n",
    "def update_plot(S0, I0, R0, beta, gamma):\n",
    "    N = S0 + I0 + R0\n",
    "    y0 = S0, I0, R0\n",
    "    ret = odeint(deriv, y0, time_steps, args=(N, beta, gamma))\n",
    "    S, I, R = ret.T\n",
    "\n",
    "    fig = plt.figure(facecolor='w')\n",
    "    ax = fig.add_subplot(111, facecolor='#dddddd', axisbelow=True)\n",
    "    ax.plot(time_steps, S/1000, 'b', label='Susceptible')\n",
    "    ax.plot(time_steps, I/1000, 'r', label='Infected')\n",
    "    ax.plot(time_steps, R/1000, 'g', label='Recovered with immunity')\n",
    "    ax.set_xlabel('Time /days')\n",
    "    ax.set_ylabel('Number (1000s)')\n",
    "\n",
    "    ax.yaxis.set_tick_params(length=0)\n",
    "    ax.xaxis.set_tick_params(length=0)\n",
    "    ax.grid(b=True, which='major', c='w', lw=2, ls='-')\n",
    "    legend = ax.legend()\n",
    "    legend.get_frame().set_alpha(0.5)\n",
    "\n",
    "    plt.show()\n",
    "    \n",
    "widgets.interactive(update_plot, S0=s_widget, I0=i_widget, R0=r_widget, beta=b_widget, gamma=g_widget)"
   ]
  },
  {
   "cell_type": "code",
   "execution_count": null,
   "id": "ca2299c2-abc4-46b5-8d2a-eb2f302b5cda",
   "metadata": {},
   "outputs": [],
   "source": []
  }
 ],
 "metadata": {
  "kernelspec": {
   "display_name": "Python 3",
   "language": "python",
   "name": "python3"
  },
  "language_info": {
   "codemirror_mode": {
    "name": "ipython",
    "version": 3
   },
   "file_extension": ".py",
   "mimetype": "text/x-python",
   "name": "python",
   "nbconvert_exporter": "python",
   "pygments_lexer": "ipython3",
   "version": "3.8.2"
  }
 },
 "nbformat": 4,
 "nbformat_minor": 5
}
